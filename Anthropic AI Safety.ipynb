from anthropic import Anthropic

# Initialize client with your API key
anthropic = Anthropic(api_key='your-api-key')

# Create a message
response = anthropic.messages.create(
    model="claude-3-opus-20240229",  # or other model versions
    max_tokens=1000,
    messages=[
        {
            "role": "user",
            "content": "Hello, Claude!"
        }
    ]
)

# Print the response
print(response.content)