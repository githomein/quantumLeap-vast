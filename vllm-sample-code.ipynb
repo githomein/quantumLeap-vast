{
 "cells": [
  {
   "cell_type": "code",
   "execution_count": 9,
   "metadata": {},
   "outputs": [
    {
     "name": "stdout",
     "output_type": "stream",
     "text": [
      "Completion text:  major tourist destination. It is home to hundreds of different attractions, from historic settings such as Alcatraz and Chinatown, as well as museums and restaurants. Visitors often find a wide variety of itineraries, depending upon the time they have available and the types of sites they prefer to visit. Visiting all the big-name spots can be both time-consuming and stressful. Most visitors enjoy seeing several attractions in a single day, so establishing a timeline helps to stay on schedule and see the most important sites in San Francisco.\n",
      "Casually stroll along the Esplanade Promenade to the Golden Gate Bridge. Stand there as you watch traffic cross the bridge. The playground at the Presidio offers a chance for children to play on the main viewpoint of the bridges. Public restrooms are available nearby; bring some money to purchase a map or purchase a souvenir.\n",
      "Head west on U.S. 101 to San Francisco City Hall. Walk to the top of the marble staircase and catch the free elevator to the sixth floor. From there, you can enjoy the city as you take the 360-degree tour of the Automated Tour and the multimedia presentation.\n",
      "District Day trips, such as those to Alcatraz, Pier 39, Golden Gate Park, Lombard Street, or Fisherman's Wharf, are either a half-day or full-day trip. A half-day trip generally takes some time for public transportation and traveling to your destination. Once at your destination, if you plan to take a ferry to Alcatraz, wait no longer to board so the ship departs on time.\n",
      "San Francisco Cable Cars offer free daytime rides, though you must pay for the 31-foot double-decker sidewalk bus, and fill the time by walking around the neighborhood to get a taste of what other nearby businesses are offering.\n",
      "Visit the Golden Gate Park, which features more than 1,000 different hectares of rolling hilltops, eucalyptus-dotted woodlands, and an abundance of wildlife. Stop at the Japanese Tea Garden on your way to the California Academy of Sciences, or take the children to the Children's Creativity Museum.\n",
      "Explore Fisherman's Wharf, with its freshly caught seafood to taste and amazing harbor views. For a haircut, ride the cable car from Market Street up Russian Hill to Fleurs by Guild, or visit the upscale Frock flavortopia at 1921 Van Ness Ave.\n",
      "Spend your evening before or after dinner at the Castro, the city's gay hub,\n"
     ]
    }
   ],
   "source": [
    "from openai import OpenAI\n",
    "\n",
    "# Configure OpenAI's API key and API base to use vLLM's API server\n",
    "openai_api_key = \"EMPTY\"  # Use \"EMPTY\" or your actual API key if authentication is required\n",
    "openai_api_base = \"http://localhost:8000/v1\"  # Replace with your vLLM server's address and port\n",
    "\n",
    "# Initialize the OpenAI client for the vLLM server\n",
    "client = OpenAI(\n",
    "    api_key=openai_api_key,\n",
    "    base_url=openai_api_base,\n",
    ")\n",
    "\n",
    "# Send a request to the vLLM server\n",
    "completion = client.completions.create(\n",
    "    model=\"Qwen/Qwen2.5-7B-Instruct\",  # Replace with your desired model\n",
    "    prompt=\"San Francisco is a\",\n",
    "    max_tokens = 512\n",
    ")\n",
    "\n",
    "# Extract the 'text' from the response\n",
    "if completion.choices and len(completion.choices) > 0:\n",
    "    text_response = completion.choices[0].text\n",
    "else:\n",
    "    text_response = \"No text found in the response.\"\n",
    "\n",
    "# Print the extracted text\n",
    "print(\"Completion text:\", text_response)\n"
   ]
  },
  {
   "cell_type": "code",
   "execution_count": null,
   "metadata": {},
   "outputs": [],
   "source": []
  }
 ],
 "metadata": {
  "kernelspec": {
   "display_name": "Python 3",
   "language": "python",
   "name": "python3"
  },
  "language_info": {
   "codemirror_mode": {
    "name": "ipython",
    "version": 3
   },
   "file_extension": ".py",
   "mimetype": "text/x-python",
   "name": "python",
   "nbconvert_exporter": "python",
   "pygments_lexer": "ipython3",
   "version": "3.12.7"
  }
 },
 "nbformat": 4,
 "nbformat_minor": 2
}
